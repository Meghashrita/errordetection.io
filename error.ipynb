{
 "cells": [
  {
   "cell_type": "code",
   "execution_count": 293,
   "id": "6407c5d7-8338-4958-8a44-ff8f17781f2a",
   "metadata": {},
   "outputs": [
    {
     "name": "stderr",
     "output_type": "stream",
     "text": [
      "ibmqfactory.load_account:WARNING:2022-12-23 13:03:20,315: Credentials are already in use. The existing account in the session will be replaced.\n"
     ]
    }
   ],
   "source": [
    "import numpy as np\n",
    "\n",
    "# Importing standard Qiskit libraries\n",
    "from qiskit import QuantumCircuit, transpile, Aer, IBMQ\n",
    "from qiskit.tools.jupyter import *\n",
    "from qiskit.visualization import *\n",
    "from ibm_quantum_widgets import *\n",
    "from qiskit.providers.aer import QasmSimulator\n",
    "\n",
    "# Loading your IBM Quantum account(s)\n",
    "provider = IBMQ.load_account()"
   ]
  },
  {
   "cell_type": "code",
   "execution_count": 294,
   "id": "b8cb6e93-0e32-4cdf-8ed1-fce7dade176f",
   "metadata": {},
   "outputs": [],
   "source": [
    "from qiskit import QuantumCircuit,ClassicalRegister,QuantumRegister\n",
    "from qiskit import execute\n",
    "from qiskit import QuantumCircuit, Aer, assemble\n",
    "import numpy as np\n",
    "from qiskit.visualization import plot_histogram, plot_bloch_multivector\n",
    "from qiskit import QuantumCircuit, BasicAer, execute\n",
    "from qiskit.visualization import plot_histogram"
   ]
  },
  {
   "cell_type": "code",
   "execution_count": 295,
   "id": "90c3a9d5-2ce5-4c10-bf69-ea4b3bfc6c6b",
   "metadata": {},
   "outputs": [],
   "source": [
    "q = QuantumRegister(15)\n",
    "c = ClassicalRegister(15)\n",
    "\n",
    "qc =  QuantumCircuit(q,c)\n",
    "\n",
    "from math import pi"
   ]
  },
  {
   "cell_type": "code",
   "execution_count": 296,
   "id": "d4602fbb-e85b-42ff-8bc8-0e1682163a6f",
   "metadata": {},
   "outputs": [
    {
     "data": {
      "text/plain": [
       "<qiskit.circuit.instructionset.InstructionSet at 0x7fcfad859430>"
      ]
     },
     "execution_count": 296,
     "metadata": {},
     "output_type": "execute_result"
    }
   ],
   "source": [
    "#Entangled state\n",
    "qc.h([0])\n",
    "qc.h([2])\n",
    "qc.h([3])\n",
    "qc.h([6])\n",
    "qc.h([8])\n",
    "qc.h([9])\n",
    "\n",
    "qc.cx(q[2],q[1])\n",
    "qc.cx(q[3],q[4])\n",
    "qc.cx(q[6],q[5])\n",
    "qc.cx(q[8],q[7])\n",
    "qc.cx(q[9],q[10])\n",
    "qc.cx(q[0],q[11])\n",
    "\n",
    "qc.h([2])\n",
    "qc.h([5])\n",
    "qc.h([8])\n",
    "qc.h([10])\n",
    "\n",
    "qc.cx(q[0],q[1])\n",
    "qc.cx(q[3],q[2])\n",
    "qc.cx(q[5],q[4])\n",
    "qc.cx(q[6],q[7])\n",
    "qc.cx(q[9],q[8])\n",
    "qc.cx(q[10],q[11])\n",
    "\n",
    "qc.h([1])\n",
    "qc.h([2])\n",
    "qc.h([4])\n",
    "qc.h([7])\n",
    "qc.h([8])\n",
    "qc.h([11])\n",
    "\n",
    "qc.cx(q[0],q[12])\n",
    "qc.cx(q[1],q[12])\n",
    "qc.cx(q[2],q[12])\n",
    "qc.cx(q[3],q[12])\n",
    "qc.cx(q[4],q[12])\n",
    "qc.cx(q[5],q[12])\n",
    "qc.cx(q[6],q[12])\n",
    "qc.cx(q[7],q[12])\n",
    "qc.cx(q[8],q[12])\n",
    "qc.cx(q[9],q[12])\n",
    "qc.cx(q[10],q[12])\n",
    "qc.cx(q[11],q[12])\n",
    "\n",
    "#Add errors\n",
    "#for theta\n",
    "#for theta in range[-pi,pi]:\n",
    "qc.h(0)\n",
    "#qc.ry(pi/2, 0)\n",
    "#qc.rz(pi, 0)\n",
    "\n",
    "#add syndrome\n",
    "qc.cx(q[0],q[13])\n",
    "qc.cx(q[1],q[13])\n",
    "qc.cx(q[2],q[13])\n",
    "qc.cx(q[3],q[13])\n",
    "qc.cx(q[4],q[13])\n",
    "qc.cx(q[5],q[13])\n",
    "qc.cx(q[6],q[13])\n",
    "qc.cx(q[7],q[13])\n",
    "qc.cx(q[8],q[13])\n",
    "qc.cx(q[9],q[13])\n",
    "qc.cx(q[10],q[13])\n",
    "qc.cx(q[11],q[13])\n",
    "qc.cx(q[12],q[13])\n",
    "\n",
    "qc.h([14])\n",
    "\n",
    "qc.cx(q[14],q[0])\n",
    "qc.cx(q[14],q[1])\n",
    "qc.cx(q[14],q[2])\n",
    "qc.cx(q[14],q[3])\n",
    "qc.cx(q[14],q[4])\n",
    "qc.cx(q[14],q[5])\n",
    "qc.cx(q[14],q[6])\n",
    "qc.cx(q[14],q[7])\n",
    "qc.cx(q[14],q[8])\n",
    "qc.cx(q[14],q[9])\n",
    "qc.cx(q[14],q[10])\n",
    "qc.cx(q[14],q[11])\n",
    "\n",
    "\n",
    "qc.h(q[14])\n",
    "\n",
    "qc.measure(q[13],c[13])\n",
    "qc.measure(q[14],c[14])"
   ]
  },
  {
   "cell_type": "code",
   "execution_count": 297,
   "id": "92bf525c-b912-4b7d-b6a3-cc0ec72f3c60",
   "metadata": {},
   "outputs": [
    {
     "name": "stdout",
     "output_type": "stream",
     "text": [
      "{'010000000000000': 4077, '100000000000000': 4115}\n"
     ]
    }
   ],
   "source": [
    "from qiskit import QuantumCircuit, Aer, transpile, assemble\n",
    "from qiskit.visualization import plot_histogram\n",
    "aer_sim = Aer.get_backend('aer_simulator')\n",
    "backend = Aer.get_backend('qasm_simulator')\n",
    "qc.save_statevector()\n",
    "job = execute(qc, backend, shots=8192, \n",
    "              seed_simulator=1024, seed_transpiler=1024)\n",
    "sim = job.result()\n",
    "out_state = sim.get_statevector()\n",
    "#print(out_state)\n",
    "counts = sim.get_counts(qc)\n",
    "print(counts)"
   ]
  },
  {
   "cell_type": "code",
   "execution_count": null,
   "id": "48efbc6e-c264-45bb-ac68-5e88125896da",
   "metadata": {},
   "outputs": [],
   "source": []
  }
 ],
 "metadata": {
  "kernelspec": {
   "display_name": "Python 3 (ipykernel)",
   "language": "python",
   "name": "python3"
  },
  "language_info": {
   "codemirror_mode": {
    "name": "ipython",
    "version": 3
   },
   "file_extension": ".py",
   "mimetype": "text/x-python",
   "name": "python",
   "nbconvert_exporter": "python",
   "pygments_lexer": "ipython3",
   "version": "3.8.13"
  },
  "widgets": {
   "application/vnd.jupyter.widget-state+json": {
    "state": {
     "095ecc17d9154a69929722e36e559b96": {
      "model_module": "@jupyter-widgets/base",
      "model_module_version": "1.2.0",
      "model_name": "LayoutModel",
      "state": {
       "margin": "0px 0px 0px 37px",
       "width": "600px"
      }
     },
     "0a8f3d643d244c7dbe50003e58077adc": {
      "model_module": "@jupyter-widgets/base",
      "model_module_version": "1.2.0",
      "model_name": "LayoutModel",
      "state": {
       "width": "145px"
      }
     },
     "1fb8c8d167ce4a68b90e2ae72852188a": {
      "model_module": "@jupyter-widgets/controls",
      "model_module_version": "1.5.0",
      "model_name": "DescriptionStyleModel",
      "state": {
       "description_width": ""
      }
     },
     "23524a6f4e07453a88381e2fcf049615": {
      "model_module": "@jupyter-widgets/controls",
      "model_module_version": "1.5.0",
      "model_name": "HTMLModel",
      "state": {
       "layout": "IPY_MODEL_44fea03dd37b4e85b22378a16639e947",
       "style": "IPY_MODEL_1fb8c8d167ce4a68b90e2ae72852188a",
       "value": "<p style='font-family: IBM Plex Sans, Arial, Helvetica, sans-serif; font-size: 20px; font-weight: medium;'>Circuit Properties</p>"
      }
     },
     "335284b352c14996a5313f7349705a15": {
      "model_module": "@jupyter-widgets/controls",
      "model_module_version": "1.5.0",
      "model_name": "DescriptionStyleModel",
      "state": {
       "description_width": ""
      }
     },
     "38da84d741e14ed7a47ea76c65204d2a": {
      "model_module": "@jupyter-widgets/base",
      "model_module_version": "1.2.0",
      "model_name": "LayoutModel",
      "state": {
       "width": "95px"
      }
     },
     "3de451128e294747befee55d0b85ea12": {
      "model_module": "@jupyter-widgets/base",
      "model_module_version": "1.2.0",
      "model_name": "LayoutModel",
      "state": {
       "width": "190px"
      }
     },
     "44fea03dd37b4e85b22378a16639e947": {
      "model_module": "@jupyter-widgets/base",
      "model_module_version": "1.2.0",
      "model_name": "LayoutModel",
      "state": {
       "margin": "0px 0px 10px 0px"
      }
     },
     "64d28b861de74ad1a25c5872324c0ef8": {
      "model_module": "@jupyter-widgets/base",
      "model_module_version": "1.2.0",
      "model_name": "LayoutModel",
      "state": {}
     },
     "69a6086e90104d91a99b428d6185a40a": {
      "model_module": "@jupyter-widgets/controls",
      "model_module_version": "1.5.0",
      "model_name": "ButtonModel",
      "state": {
       "button_style": "primary",
       "description": "Clear",
       "layout": "IPY_MODEL_c72e371a172f425e803520de82e531fc",
       "style": "IPY_MODEL_c51e8821a747411e9a9c766fdbd749ae"
      }
     },
     "7df8c08c5ed54a2aadddba44d0e830ea": {
      "model_module": "@jupyter-widgets/controls",
      "model_module_version": "1.5.0",
      "model_name": "GridBoxModel",
      "state": {
       "children": [
        "IPY_MODEL_69a6086e90104d91a99b428d6185a40a"
       ],
       "layout": "IPY_MODEL_acbc8aa68c224437828216d861c90495"
      }
     },
     "90efa00d32ff4c4992e553f0789ac4a8": {
      "model_module": "@jupyter-widgets/base",
      "model_module_version": "1.2.0",
      "model_name": "LayoutModel",
      "state": {
       "width": "70px"
      }
     },
     "938675f8abe84bb098c6f17829110df8": {
      "model_module": "@jupyter-widgets/controls",
      "model_module_version": "1.5.0",
      "model_name": "DescriptionStyleModel",
      "state": {
       "description_width": ""
      }
     },
     "94be9fa0bbb2467a879eafe49010d5a3": {
      "model_module": "@jupyter-widgets/controls",
      "model_module_version": "1.5.0",
      "model_name": "HTMLModel",
      "state": {
       "layout": "IPY_MODEL_64d28b861de74ad1a25c5872324c0ef8",
       "style": "IPY_MODEL_a3dc84a442df4698a17c066bd55881a0",
       "value": "<h5>Message</h5>"
      }
     },
     "9bfeaa9228ee4c45af20cdfcfff42cef": {
      "model_module": "@jupyter-widgets/controls",
      "model_module_version": "1.5.0",
      "model_name": "DescriptionStyleModel",
      "state": {
       "description_width": ""
      }
     },
     "a3dc84a442df4698a17c066bd55881a0": {
      "model_module": "@jupyter-widgets/controls",
      "model_module_version": "1.5.0",
      "model_name": "DescriptionStyleModel",
      "state": {
       "description_width": ""
      }
     },
     "acbc8aa68c224437828216d861c90495": {
      "model_module": "@jupyter-widgets/base",
      "model_module_version": "1.2.0",
      "model_name": "LayoutModel",
      "state": {
       "grid_template_areas": "\n                                       \". . . . right \"\n                                        ",
       "grid_template_columns": "20% 20% 20% 20% 20%",
       "width": "100%"
      }
     },
     "b8612883c622457386e1a66d1c52069e": {
      "model_module": "@jupyter-widgets/controls",
      "model_module_version": "1.5.0",
      "model_name": "HTMLModel",
      "state": {
       "layout": "IPY_MODEL_0a8f3d643d244c7dbe50003e58077adc",
       "style": "IPY_MODEL_fb7c9fe3522b442587f8e820527cbf4f",
       "value": "<h5>Backend</h5>"
      }
     },
     "baf33363e8bd4e77985a347848745fd8": {
      "model_module": "@jupyter-widgets/controls",
      "model_module_version": "1.5.0",
      "model_name": "HTMLModel",
      "state": {
       "layout": "IPY_MODEL_90efa00d32ff4c4992e553f0789ac4a8",
       "style": "IPY_MODEL_938675f8abe84bb098c6f17829110df8",
       "value": "<h5>Queue</h5>"
      }
     },
     "c51e8821a747411e9a9c766fdbd749ae": {
      "model_module": "@jupyter-widgets/controls",
      "model_module_version": "1.5.0",
      "model_name": "ButtonStyleModel",
      "state": {}
     },
     "c64531faa2f54453b4b09bd579aca78e": {
      "model_module": "@jupyter-widgets/controls",
      "model_module_version": "1.5.0",
      "model_name": "HTMLModel",
      "state": {
       "layout": "IPY_MODEL_38da84d741e14ed7a47ea76c65204d2a",
       "style": "IPY_MODEL_9bfeaa9228ee4c45af20cdfcfff42cef",
       "value": "<h5>Status</h5>"
      }
     },
     "c72e371a172f425e803520de82e531fc": {
      "model_module": "@jupyter-widgets/base",
      "model_module_version": "1.2.0",
      "model_name": "LayoutModel",
      "state": {
       "grid_area": "right",
       "padding": "0px 0px 0px 0px",
       "width": "70px"
      }
     },
     "eb3d6beed9284b2f9ba12afb49c8d238": {
      "model_module": "@jupyter-widgets/controls",
      "model_module_version": "1.5.0",
      "model_name": "HBoxModel",
      "state": {
       "children": [
        "IPY_MODEL_f1cc8593252a4c1395c0b64dcaec847e",
        "IPY_MODEL_b8612883c622457386e1a66d1c52069e",
        "IPY_MODEL_c64531faa2f54453b4b09bd579aca78e",
        "IPY_MODEL_baf33363e8bd4e77985a347848745fd8",
        "IPY_MODEL_94be9fa0bbb2467a879eafe49010d5a3"
       ],
       "layout": "IPY_MODEL_095ecc17d9154a69929722e36e559b96"
      }
     },
     "f1cc8593252a4c1395c0b64dcaec847e": {
      "model_module": "@jupyter-widgets/controls",
      "model_module_version": "1.5.0",
      "model_name": "HTMLModel",
      "state": {
       "layout": "IPY_MODEL_3de451128e294747befee55d0b85ea12",
       "style": "IPY_MODEL_335284b352c14996a5313f7349705a15",
       "value": "<h5>Job ID</h5>"
      }
     },
     "fb7c9fe3522b442587f8e820527cbf4f": {
      "model_module": "@jupyter-widgets/controls",
      "model_module_version": "1.5.0",
      "model_name": "DescriptionStyleModel",
      "state": {
       "description_width": ""
      }
     }
    },
    "version_major": 2,
    "version_minor": 0
   }
  }
 },
 "nbformat": 4,
 "nbformat_minor": 5
}
